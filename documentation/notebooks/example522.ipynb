{
 "cells": [
  {
   "cell_type": "markdown",
   "metadata": {},
   "source": [
    "# Example 5.2.2\n",
    "\n",
    "This notebook demonstrates the results of subsection 5.2.2 of [1]. Here, we will compute the $\\hat{Z}$ invariant of the homology sphere $M\\left(-1; \\frac{1}{2}, \\frac{1}{3}, \\frac{1}{9}\\right)$ by leveraging its relation as a -3-surgery on the right handed trefoil.\n",
    "\n",
    "After computing the $F_K$ invariant, the two variable invariant of Gukov and Manolescu, associated to the right handed trefoil, we will apply the surgery formula to obtain the $\\hat{Z}$ invariant and the defect $\\hat{Z}$ invariants.\n",
    "\n",
    "Finally, we will compare the results with the expressions deving from the plumbing description, which we calculate using pyPlumbing."
   ]
  },
  {
   "cell_type": "markdown",
   "metadata": {
    "vscode": {
     "languageId": "sage"
    }
   },
   "source": [
    "## $F_K$ invariant"
   ]
  },
  {
   "cell_type": "markdown",
   "metadata": {},
   "source": [
    "We start by computing the $F_K$ invariant for the trefoil. This is done using equation 3.44 of [1]. "
   ]
  },
  {
   "cell_type": "code",
   "execution_count": 5,
   "metadata": {
    "vscode": {
     "languageId": "sage"
    }
   },
   "outputs": [
    {
     "data": {
      "text/plain": [
       "((x^(19/2) - 1/x^(19/2))*q^15 + (x^(17/2) - 1/x^(17/2))*q^12 - (x^(13/2) - 1/x^(13/2))*q^7 - (x^(11/2) - 1/x^(11/2))*q^5 + (x^(7/2) - 1/x^(7/2))*q^2 + (x^(5/2) - 1/x^(5/2))*q - sqrt(x) + 1/sqrt(x))*q"
      ]
     },
     "execution_count": 5,
     "metadata": {},
     "output_type": "execute_result"
    }
   ],
   "source": [
    "def eps_k(s,t,k):\n",
    "    \"\"\"\n",
    "    Epsilon parameter. See text below equation 3.43 for details.\n",
    "    \"\"\"\n",
    "    res = 0\n",
    "    for eps in range(2):\n",
    "        res += (-1)**eps *( int( (k+s*t+(-1)**eps*s+t) % (2*s*t) == 0)  + int( (k-s*t-(-1)**eps*s-t) % (2*s*t) == 0) )\n",
    "    return res\n",
    "\n",
    "def Fk_torus(s,t,x_order):\n",
    "    \"\"\"\n",
    "    Fk invariant for a torus knot. Se equation 3.44 for details. In this function s, t define the torus knot\n",
    "    x_order is the order of the Fk expansion in the variable x.\n",
    "    \"\"\"\n",
    "    res = 0\n",
    "    x,q = var(\"x,q\")\n",
    "    k_max = 2*x_order\n",
    "    for k in range(1,k_max+1):\n",
    "        exp = ((k**2 -  (s*t - s - t)**2)/(4*s*t))\n",
    "        res += eps_k(s,t,k) * q**exp * (x**(k/2) - x**(-k/2))\n",
    "    return -res*q**((s-1)*(t-1)/2)\n",
    "\n",
    "Fk = Fk_torus(2,3,10)\n",
    "Fk"
   ]
  },
  {
   "cell_type": "markdown",
   "metadata": {},
   "source": [
    "We recover the $\\hat{Z}$ invariant by applying the surgery formula. To that end, we define L_transoform, which applies to a Sage expression the transformation of equation  2.8."
   ]
  },
  {
   "cell_type": "code",
   "execution_count": 6,
   "metadata": {},
   "outputs": [],
   "source": [
    "load(\"weil_rep_fncs.sage\")\n",
    "def L_transform(expr,p,r,b):\n",
    "    \"\"\"\n",
    "    Perform the Legendre transformation for the surgery formula on an F_K of equation 2.8 of [1].\n",
    "    \"\"\"\n",
    "    Lt = 0\n",
    "    for pref,u in expr.coefficients(x):\n",
    "        if QQ(b/2 - r*u) % p == 0:\n",
    "            Lt += pref*q^(-u^2*r/p)\n",
    "    return Lt.expand()"
   ]
  },
  {
   "cell_type": "markdown",
   "metadata": {},
   "source": [
    "With this, we can compute the $\\hat{Z}$ with and without defects as in equation 5.5"
   ]
  },
  {
   "cell_type": "code",
   "execution_count": 10,
   "metadata": {},
   "outputs": [
    {
     "name": "stdout",
     "output_type": "stream",
     "text": [
      "b=0:  2*q*(1 + 1*q^4 + (-1)*q^5 + (-1)*q^17 + 1*q^19 + Order(q^20))\n",
      "b=2:  q^(4/3)*(1 + (-2)*q + (-1)*q^3 + 1*q^6 + 2*q^10 + 1*q^15 + Order(q^20))\n",
      "b=3:  2*q^(7/4)*(1 + (-1)*q^2 + 1*q^7 + 1*q^13 + Order(q^20))\n",
      "b=4:  q^(7/3)*(1 + (-1)*q + 1*q^8 + 1*q^11 + Order(q^20))\n"
     ]
    }
   ],
   "source": [
    "print(\"b=0: \", format_expansion(L_transform((x**(1/2)-x**(-1/2))*Fk, -3,1,0)))\n",
    "print(\"b=2: \",format_expansion(L_transform((x**(3/2)-x**(-3/2))*Fk, -3,1,2)))\n",
    "print(\"b=3: \",format_expansion(L_transform((x**(2)-x**(-2))*Fk, -3,1,3)))\n",
    "print(\"b=4: \",format_expansion(L_transform((x**(5/2)-x**(-5/2))*Fk, -3,1,4)))"
   ]
  },
  {
   "cell_type": "markdown",
   "metadata": {},
   "source": [
    "## Defect $\\hat{Z}$ invariants from plumbings\n",
    "\n",
    "We compare the $q$-series produced above with the $\\hat{Z}$ invariants we obtain from the plumbing formula, which we compute with pyPlumbing."
   ]
  },
  {
   "cell_type": "code",
   "execution_count": 1,
   "metadata": {
    "vscode": {
     "languageId": "sage"
    }
   },
   "outputs": [
    {
     "data": {
      "image/png": "[encoded data removed]",
      "text/plain": [
       "Graphics object consisting of 8 graphics primitives"
      ]
     },
     "metadata": {},
     "output_type": "display_data"
    }
   ],
   "source": [
    "from pyPlumbing import Plumbing\n",
    "import numpy as np\n",
    "P = Plumbing.from_Seifert_data([-1,1/2, 1/3, 1/9])\n",
    "P.display()"
   ]
  },
  {
   "cell_type": "markdown",
   "metadata": {},
   "source": [
    "PyPlumbing provides functionality to compute the $\\hat{Z}$ invariant. With trivial boundary conditions and Wilson line insersions in the heighest weight representations (0), (1), (2) on the node $v_3$ we obtain:"
   ]
  },
  {
   "cell_type": "code",
   "execution_count": 9,
   "metadata": {
    "vscode": {
     "languageId": "sage"
    }
   },
   "outputs": [
    {
     "name": "stdout",
     "output_type": "stream",
     "text": [
      "b = [ 1 -1 -1 -1]\n",
      "w = [(0), (0), (0), (0)]\n",
      "zh = q^(1)(1 + 1q^(4) - 1q^(5) - 1q^(17) + 1q^(19) + 1q^(39) - 1q^(42) - 1q^(70) + O(q^71))\n",
      "w = [(0), (0), (0), (2)]\n",
      "zh = q^(26667/20000)(1/2 - 1q^(1) - 1/2q^(3) + 1/2q^(6) + 1q^(10) + 1/2q^(15) - 1/2q^(21) - 1q^(28) - 1/2q^(36) + 1/2q^(45) + O(q^55))\n",
      "w = [(0), (0), (0), (3)]\n",
      "zh = q^(7/4)(1 - 1q^(2) + 1q^(7) + 1q^(13) - 1q^(23) - 1q^(33) + 1q^(48) + O(q^49))\n",
      "w = [(0), (0), (0), (4)]\n",
      "zh = q^(46667/20000)(1/2 - 1/2q^(1) + 1/2q^(8) + 1/2q^(11) - 1/2q^(25) - 1/2q^(30) + 1/2q^(51) + 1/2q^(58) - 1/2q^(86) - 1/2q^(95) + O(q^130))\n"
     ]
    }
   ],
   "source": [
    "group_rank = [\"A\",1]\n",
    "b = P.trivial_spin_c(group_rank)\n",
    "print(\"b = %s\" % b.T)\n",
    "for w in [0,2,3,4]:\n",
    "    W = [vector([0])]*3 + [vector([w])]\n",
    "    print(\"w = %s\" % W)\n",
    "    zh = P.zhat(group_rank, b, 20, wilson=W)\n",
    "    print(\"zh = %s\" % zh)\n",
    "    "
   ]
  },
  {
   "cell_type": "markdown",
   "metadata": {},
   "source": [
    "## Conclusion\n",
    "Comparing the results, we can see that we have covered the whole Weil representation with defect $\\hat{Z}$ invariants. Therefore we have demonstrated the Modularity Conjecture, Conjecture 4 of [1] using knot surgeries and the defect surgery formula."
   ]
  }
 ],
 "metadata": {
  "kernelspec": {
   "display_name": "Python 3 (ipykernel)",
   "language": "python",
   "name": "python3"
  },
  "language_info": {
   "codemirror_mode": {
    "name": "ipython",
    "version": 3
   },
   "file_extension": ".py",
   "mimetype": "text/x-python",
   "name": "python",
   "nbconvert_exporter": "python",
   "pygments_lexer": "ipython3",
   "version": "3.12.2"
  }
 },
 "nbformat": 4,
 "nbformat_minor": 4
}
