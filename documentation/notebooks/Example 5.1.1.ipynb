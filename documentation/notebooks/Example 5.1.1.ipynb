{
 "cells": [
  {
   "cell_type": "markdown",
   "metadata": {},
   "source": [
    "# Example section companion notebook\n",
    "\n",
    "This notebook demonstrates the results of subsection 5.1.1 of [1]. Here, we will compute the $\\hat{Z}$ invariant of the homology sphere $\\Sigma(2,3,7)$, we will calculate the associated Weil representation and we will verify that through Wilson line insertion we can complete the representation. "
   ]
  },
  {
   "cell_type": "markdown",
   "metadata": {
    "vscode": {
     "languageId": "sage"
    }
   },
   "source": [
    "## Defect $\\hat{Z}$ invariants\n",
    "\n",
    "Here we compute the $\\hat{Z}$ invariants with and without defects of the manifold. We do so using pyPlumbing. To that end, we import the Plumbing class and define a Plumbing as a Brieskorn sphere."
   ]
  },
  {
   "cell_type": "code",
   "execution_count": 5,
   "metadata": {
    "vscode": {
     "languageId": "sage"
    }
   },
   "outputs": [
    {
     "data": {
      "image/png": "[encoded data removed]",
      "text/plain": [
       "Graphics object consisting of 8 graphics primitives"
      ]
     },
     "metadata": {},
     "output_type": "display_data"
    }
   ],
   "source": [
    "from pyPlumbing import Plumbing\n",
    "import numpy as np\n",
    "P = Plumbing.from_Brieskorn([2,3,7])\n",
    "P.display()"
   ]
  },
  {
   "cell_type": "markdown",
   "metadata": {},
   "source": [
    "PyPlumbing provides functionality to compute the $\\hat{Z}$ invariant. With trivial boundary conditions and Wilson line insersions in the heighest weight representations (0), (1), (2) on the node $v_3$ we obtain:"
   ]
  },
  {
   "cell_type": "code",
   "execution_count": 6,
   "metadata": {
    "vscode": {
     "languageId": "sage"
    }
   },
   "outputs": [
    {
     "name": "stdout",
     "output_type": "stream",
     "text": [
      "b = [ 1 -1 -1 -1]\n",
      "w = [(0), (0), (0), (0)]\n",
      "zh = q^(1/2)(1 - 1q^(1) - 1q^(5) + 1q^(10) - 1q^(11) + 1q^(18) + 1q^(30) - 1q^(41) + O(q^42))\n",
      "w = [(0), (0), (0), (1)]\n",
      "zh = q^(3/4)(1 - 1q^(2) - 1q^(3) - 1q^(8) + 1q^(13) + 1q^(22) + 1q^(25) + O(q^26))\n",
      "w = [(0), (0), (0), (2)]\n",
      "zh = q^(3/2)(1 - 1q^(1) - 1q^(3) - 1q^(5) + 1q^(16) + 1q^(20) + 1q^(26) + 1q^(31) - 1q^(53) - 1q^(60) + O(q^70))\n"
     ]
    }
   ],
   "source": [
    "group_rank = [\"A\",1]\n",
    "b = P.trivial_spin_c(group_rank)\n",
    "print(\"b = %s\" % b.T)\n",
    "for w in range(3):\n",
    "    W = [vector([0])]*3 + [vector([w])]\n",
    "    print(\"w = %s\" % W)\n",
    "    zh = P.zhat(group_rank, b, 20, wilson=W)\n",
    "    print(\"zh = %s\" % zh)\n",
    "    "
   ]
  },
  {
   "cell_type": "markdown",
   "metadata": {},
   "source": [
    "## Weil Representation\n",
    "\n",
    "We wish to compare the $\\hat{Z}$ $q$-power expansions with the $q$-series expansions of the linear combinations of false theta functions associated to the Weil representation. To that end we import the functions of weyl_rep_fncs.sage which provide the necessary functionality."
   ]
  },
  {
   "cell_type": "code",
   "execution_count": 7,
   "metadata": {
    "vscode": {
     "languageId": "sage"
    }
   },
   "outputs": [],
   "source": [
    "m = 2*3*7\n",
    "K = [1,6,14,21]\n",
    "p = np.array([2,3,7])"
   ]
  },
  {
   "cell_type": "code",
   "execution_count": 8,
   "metadata": {
    "vscode": {
     "languageId": "sage"
    }
   },
   "outputs": [
    {
     "name": "stdout",
     "output_type": "stream",
     "text": [
      "index = 1\n",
      "theta_{1}^{m+K} = -theta(42, 83) + theta(42, 71) + theta(42, 55) - theta(42, 43) + theta(42, 41) - theta(42, 29) - theta(42, 13) + theta(42, 1)\n",
      "theta_{1}^{m+K} = 2*q^(1/168)*(1.0 + (-1.0)*q + (-1.0)*q^5 + 1*q^10 + (-1.0)*q^11 + 1*q^18 + Order(q^20))\n",
      "index = 5\n",
      "theta_{5}^{m+K} = -theta(42, 79) - theta(42, 65) - theta(42, 61) - theta(42, 47) + theta(42, 37) + theta(42, 23) + theta(42, 19) + theta(42, 5)\n",
      "theta_{5}^{m+K} = 2*q^(25/168)*(1.0 + 1*q^2 + 1*q^3 + 1*q^8 + (-1.0)*q^13 + Order(q^20))\n",
      "index = 11\n",
      "theta_{11}^{m+K} = -theta(42, 73) - theta(42, 67) - theta(42, 59) - theta(42, 53) + theta(42, 31) + theta(42, 25) + theta(42, 17) + theta(42, 11)\n",
      "theta_{11}^{m+K} = 2*q^(121/168)*(1.0 + 1*q + 1*q^3 + 1*q^5 + (-1.0)*q^16 + Order(q^20))\n"
     ]
    }
   ],
   "source": [
    "load(\"weil_rep_fncs.sage\")\n",
    "proj = weil_projector(m,K)\n",
    "ind = [np.arange(2*m)[p != 0] for p in proj if len(np.arange(2*m)[p != 0]>0)]\n",
    "signs = [np.sign((p)[ p != 0]) for p in proj if len(np.arange(2*m)[p != 0]>0)]\n",
    "reps = list()\n",
    "rep_sgns = list()\n",
    "for rep,sgn in zip(ind,signs):\n",
    "    if not list(rep) in reps:\n",
    "        reps += [list(rep)]\n",
    "        rep_sgns += [list(sgn)]\n",
    "th = function('theta', nargs=2)\n",
    "for rep,rep_sgn in zip(reps,rep_sgns):\n",
    "    print(\"index = %s\" % rep[0])\n",
    "    print(\"theta_{\"+str(rep[0])+\"}^{m+K} = %s\" % sum(int(s)*th(m,r) for r,s in zip(rep,rep_sgn)))\n",
    "    theta_expansion = 0\n",
    "    for r,s in zip(rep,rep_sgn):\n",
    "        theta_expansion += s*false_theta(m,int(r),20)\n",
    "    print(\"theta_{\"+str(rep[0])+\"}^{m+K} = %s\" % format_expansion(theta_expansion))"
   ]
  },
  {
   "cell_type": "markdown",
   "metadata": {
    "vscode": {
     "languageId": "sage"
    }
   },
   "source": [
    "## Bibliography\n",
    "[1] Cheng Et al, 3D Modularity Revisited, ArXiv 2403.14920"
   ]
  }
 ],
 "metadata": {
  "kernelspec": {
   "display_name": "SageMath 10.3",
   "language": "sage",
   "name": "sagemath"
  },
  "language_info": {
   "codemirror_mode": {
    "name": "ipython",
    "version": 3
   },
   "file_extension": ".py",
   "mimetype": "text/x-python",
   "name": "python",
   "nbconvert_exporter": "python",
   "pygments_lexer": "ipython3",
   "version": "3.12.5"
  },
  "vscode": {
   "interpreter": {
    "hash": "e7370f93d1d0cde622a1f8e1c04877d8463912d04d973331ad4851f04de6915a"
   }
  }
 },
 "nbformat": 4,
 "nbformat_minor": 4
}
