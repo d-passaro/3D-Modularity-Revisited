{
 "cells": [
  {
   "cell_type": "markdown",
   "metadata": {},
   "source": [
    "# Example section companion notebook\n",
    "\n",
    "This notebook demonstrates the results of subsection 5.1.3 of [1]. Here, we will compute the $\\hat{Z}$ invariant of the Seifert manifold $M(-1;\\frac{1}{2},\\frac{1}{7},\\frac{2}{7})$, we will calculate the associated Weil representation and we will verify that through Wilson line insertion we can complete the representation. "
   ]
  },
  {
   "cell_type": "markdown",
   "metadata": {
    "vscode": {
     "languageId": "sage"
    }
   },
   "source": [
    "## Defect $\\hat{Z}$ invariants\n",
    "\n",
    "Here we compute the $\\hat{Z}$ invariants with and without defects of the manifold. We do so using pyPlumbing. To that end, we import the Plumbing class and define a Plumbing as a Seifert manifold."
   ]
  },
  {
   "cell_type": "code",
   "execution_count": 3,
   "metadata": {
    "vscode": {
     "languageId": "sage"
    }
   },
   "outputs": [],
   "source": [
    "from pyPlumbing import Plumbing\n",
    "from sage.graphs.graph_plot import GraphPlot\n",
    "from pyPlumbing.cython_l_norm import L_norm_cython\n",
    "P = Plumbing.from_Seifert_data([-1,1/2,1/7,2/7])"
   ]
  },
  {
   "cell_type": "markdown",
   "metadata": {},
   "source": [
    "PyPlumbing provides functionality to compute the $\\hat{Z}$ invariant. With trivial boundary conditions and Wilson line insersions in the heighest weight representations (0), (1), (2) on the node $v_3$ we obtain:"
   ]
  },
  {
   "cell_type": "code",
   "execution_count": 6,
   "metadata": {
    "vscode": {
     "languageId": "sage"
    }
   },
   "outputs": [
    {
     "name": "stdout",
     "output_type": "stream",
     "text": [
      "b = [ 1 -1 -1  0 -1]\n",
      "  w = [(0), (0), (0), (0), (0)]\n",
      "  zh = q^(7143/10000)(1 + 1q^(2) - 1q^(5) - 1q^(11) + 1q^(17) + 1q^(27) - 1q^(36) - 1q^(50) + O(q^51))\n",
      "  w = [(0), (0), (0), (0), (1)]\n",
      "  zh = q^(1)(2 + 2q^(3) - 2q^(4) - 2q^(13) + 2q^(15) + 2q^(30) - 2q^(33) - 2q^(54) + O(q^55))\n",
      "  w = [(0), (0), (0), (0), (4)]\n",
      "  zh = q^(88571/20000)(1 - 1q^(1) + 1q^(6) + 1q^(9) - 1q^(19) - 1q^(24) + 1q^(39) + 1q^(46) - 1q^(66) - 1q^(75) + O(q^100))\n",
      "  w = [(0), (0), (0), (0), (5)]\n",
      "  zh = q^(268571/20000)(2 - 2q^(14) + O(q^15))\n",
      "b = [  3  -1 -11  -2  -1]\n",
      "  zh = q^(28571/20000)(-2 + 2q^(7) + O(q^8))\n"
     ]
    }
   ],
   "source": [
    "group_rank = [\"A\",1]\n",
    "b0,b1,_,_ = P.spin_c(group_rank)\n",
    "print(\"b = %s\" % b0.T)\n",
    "for w in [0,1,4,5]:\n",
    "    W = [vector([0])]*4 + [vector([w])]\n",
    "    print(\"  w = %s\" % W)\n",
    "    zh = P.zhat(group_rank, b0, 20, wilson=W)\n",
    "    print(\"  zh = %s\" % zh)\n",
    "    \n",
    "zh = P.zhat(group_rank, b1, 20)\n",
    "print(\"b = %s\" % b1.T)\n",
    "print(\"  zh = %s\" % zh)\n",
    "    "
   ]
  },
  {
   "cell_type": "markdown",
   "metadata": {},
   "source": [
    "## Weil Representation\n",
    "\n",
    "We wish to compare the $\\hat{Z}$ $q$-power expansions with the $q$-series expansions of the linear combinations of false theta functions associated to the Weil representation. To that end we import the functions of weyl_rep_fncs.sage which provide the necessary functionality."
   ]
  },
  {
   "cell_type": "code",
   "execution_count": 7,
   "metadata": {
    "vscode": {
     "languageId": "sage"
    }
   },
   "outputs": [],
   "source": [
    "m = 2*7\n",
    "K = [1,7]"
   ]
  },
  {
   "cell_type": "code",
   "execution_count": 10,
   "metadata": {
    "vscode": {
     "languageId": "sage"
    }
   },
   "outputs": [
    {
     "name": "stdout",
     "output_type": "stream",
     "text": [
      "index = 1\n",
      "theta_{1}^{m+K} = -theta(14, 27) - theta(14, 15) + theta(14, 13) + theta(14, 1)\n",
      "theta_{1}^{m+K} = 2*q^(1/56)*(1.0 + 1*q^3 + (-1.0)*q^4 + (-1.0)*q^13 + 1*q^15 + 1*q^30 + (-1.0)*q^33 + Order(q^50))\n",
      "index = 3\n",
      "theta_{3}^{m+K} = -theta(14, 25) - theta(14, 17) + theta(14, 11) + theta(14, 3)\n",
      "theta_{3}^{m+K} = 2*q^(9/56)*(1.0 + 1*q^2 + (-1.0)*q^5 + (-1.0)*q^11 + 1*q^17 + 1*q^27 + (-1.0)*q^36 + Order(q^50))\n",
      "index = 5\n",
      "theta_{5}^{m+K} = -theta(14, 23) - theta(14, 19) + theta(14, 9) + theta(14, 5)\n",
      "theta_{5}^{m+K} = 2*q^(25/56)*(1.0 + 1*q + (-1.0)*q^6 + (-1.0)*q^9 + 1*q^19 + 1*q^24 + (-1.0)*q^39 + (-1.0)*q^46 + Order(q^50))\n",
      "index = 7\n",
      "theta_{7}^{m+K} = -theta(14, 21) + theta(14, 7)\n",
      "theta_{7}^{m+K} = 2*q^(7/8)*(1.0 + (-1.0)*q^7 + 1*q^21 + (-1.0)*q^42 + Order(q^50))\n"
     ]
    }
   ],
   "source": [
    "import numpy as np\n",
    "load(\"weil_rep_fncs.sage\")\n",
    "proj = weil_projector(m,K)\n",
    "ind = [np.arange(2*m)[p != 0] for p in proj if len(np.arange(2*m)[p != 0]>0)]\n",
    "signs = [np.sign((p)[ p != 0]) for p in proj if len(np.arange(2*m)[p != 0]>0)]\n",
    "reps = list()\n",
    "rep_sgns = list()\n",
    "for rep,sgn in zip(ind,signs):\n",
    "    if not list(rep) in reps:\n",
    "        reps += [list(rep)]\n",
    "        rep_sgns += [list(sgn)]\n",
    "th = function('theta', nargs=2)\n",
    "for rep,rep_sgn in zip(reps,rep_sgns):\n",
    "    print(\"index = %s\" % rep[0])\n",
    "    print(\"theta_{\"+str(rep[0])+\"}^{m+K} = %s\" % sum(int(s)*th(m,r) for r,s in zip(rep,rep_sgn)))\n",
    "    theta_expansion = 0\n",
    "    for r,s in zip(rep,rep_sgn):\n",
    "        theta_expansion += s*false_theta(m,int(r),50)\n",
    "    print(\"theta_{\"+str(rep[0])+\"}^{m+K} = %s\" % format_expansion(theta_expansion, 50))"
   ]
  },
  {
   "cell_type": "code",
   "execution_count": 45,
   "metadata": {
    "vscode": {
     "languageId": "sage"
    }
   },
   "outputs": [
    {
     "data": {
      "text/plain": [
       "-14"
      ]
     },
     "execution_count": 45,
     "metadata": {},
     "output_type": "execute_result"
    }
   ],
   "source": [
    "vector([1,1,1,0,2]) * P.plumbing_matrix * vector([1,1,1,0,2])"
   ]
  },
  {
   "cell_type": "markdown",
   "metadata": {
    "vscode": {
     "languageId": "sage"
    }
   },
   "source": [
    "## Bibliography\n",
    "[1] Cheng Et al, 3D Modularity Revisited, ArXiv 2403.14920"
   ]
  }
 ],
 "metadata": {
  "kernelspec": {
   "display_name": "SageMath 10.3",
   "language": "sage",
   "name": "sagemath"
  },
  "language_info": {
   "codemirror_mode": {
    "name": "ipython",
    "version": 3
   },
   "file_extension": ".py",
   "mimetype": "text/x-python",
   "name": "python",
   "nbconvert_exporter": "python",
   "pygments_lexer": "ipython3",
   "version": "3.12.5"
  },
  "vscode": {
   "interpreter": {
    "hash": "e7370f93d1d0cde622a1f8e1c04877d8463912d04d973331ad4851f04de6915a"
   }
  }
 },
 "nbformat": 4,
 "nbformat_minor": 4
}
