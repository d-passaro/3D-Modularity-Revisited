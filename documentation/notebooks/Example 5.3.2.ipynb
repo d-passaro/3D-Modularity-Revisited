{
 "cells": [
  {
   "cell_type": "markdown",
   "metadata": {},
   "source": [
    "# Example 5.3.2\n",
    "$$\n",
    "\\def\\knot{\\mathbb{3}_1^l}\n",
    "$$\n",
    "\n",
    "In this notebook we demonstrate the computation of the $\\hat{Z}$ invariant through knot surgery. In this example we will compute $2$ surgery on the left handed trefoil which will lead to expressions for the $\\hat{Z}$ invariants for $-M\\left(-1; \\frac{1}{2},\\frac{1}{3},\\frac{1}{8}\\right)$.\n",
    "\n",
    "In practice the difference with the example 5.3.1 will be that we will need to include the $P^{2,b}_{n}$ polynomials, which are collected in appendix B of the paper. In SageMath we load them with a helper function which is included in ```3d_modularity_revisited.sage```. \n",
    "\n",
    "Finally, we will match the expressions we obtain with the optimal mock Jacobi theta functions transforming in the same Weil representation $m+K=24+8$.\n",
    "\n",
    "\n",
    "Following equation (2.22) of [1] we have\n",
    "$$\n",
    "\\hat{Z}_{b}(S_{+2}^{3}(\\knot);W_{\\nu};\\tau)\\sim\\\\\n",
    "\\left(a_{-1}(\\knot;q)\\mathcal{L}_{+2}^{(b+\\nu)}\\left[x^{{\\nu\\over 2}}  +x^{{\\nu\\over 2}-1}+ \\dots+   x^{-{\\nu\\over 2}}\\right] +\\right. \\\\\n",
    "\\left.\\sum_{m=1}^{\\infty} \\mathcal{L}_{+2}^{(b+\\nu)}\\left[\\left(x^{{\\nu\\over 2}}  +x^{{\\nu\\over 2}-1}+ \\dots+   x^{-{\\nu\\over 2}}       \\right)\\frac{a_{-m-1}(\\knot;q)}{\\prod_{j=1}^{m}(x+x^{-1}-q^{j}-q^{-j})}\\right]\\right)\n",
    "$$\n",
    "which we will apply on a case per case basis in order to compute the invariants.\n",
    "\n",
    "In case where no defects are inserted, this simplifies to\n",
    "$$\n",
    "\\hat{Z}_{b}(S_{+2}^{3}(\\knot);\\tau)\\sim\\\\\\left(a_{-1}(\\knot;q) \\mathcal{L}_{+2}^{(b)}\\left[1\\right]+ \\sum_{m=1}^{\\infty} a_{-m-1}(\\knot;q)\\mathcal{L}_{+2}^{(b)}\\left[\\frac{1}{\\prod_{j=1}^{m}(x+x^{-1}-q^{j}-q^{-j})}\\right]\\right)\n",
    "$$\n",
    "which we can expand using equation (2.20)\n",
    "$$\n",
    "\\mathcal{L}_{+p}^{(b)}\\left[\\frac{1}{\\prod_{j=1}^{n}(x+x^{-1}-q^{j}-q^{-j})}\\right] = q^{\\frac{b(2p-b)}{4p}}  \\frac{(-1)^{n}q^{\\frac{n(n+1)}{2}}}{\\left(q^{n+1};q\\right)_{n}}P_{n}^{p,b}(q)~, \\quad p\\in\\mathbb{Z}_{+}~,\n",
    "$$\n",
    "leaving us with\n",
    "$$\n",
    "\\hat{Z}_{b}(S_{+2}^{3}(\\knot);\\tau)\\sim\\\\ q^{\\frac{b(4-b)}{8}}\\left(a_{-1}(\\knot;q)P_{0}^{2,b}(q)\\delta_{b,0} + \\sum_{m=1}^{\\infty} a_{-m-1}(\\knot;q)\\frac{(-1)^{m}q^{\\frac{m(m+1)}{2}}}{\\left(q^{m+1};q\\right)_{m}}P_{m}^{2,b}(q)\\right)~.\n",
    "$$\n",
    "We select for the Spin$-c$ structure by setting $b=0$ or $b=1$.\n"
   ]
  },
  {
   "cell_type": "code",
   "execution_count": 10,
   "metadata": {
    "vscode": {
     "languageId": "sage"
    }
   },
   "outputs": [
    {
     "name": "stdout",
     "output_type": "stream",
     "text": [
      "Z_0(nu=0):  1 + 1*q + 1*q^3 + 1*q^4 + 1*q^5 + 1*q^6 + 2*q^7 + 1*q^8 + 3*q^9 + 2*q^10 + 3*q^11 + 3*q^12 + 5*q^13 + 3*q^14 + 5*q^15 + 6*q^16 + 7*q^17 + 7*q^18 + 9*q^19 + Order(q^20)\n",
      "Z_1(nu=0):  q^(3/8)*(1*q^(-1) + 1 + 1*q^2 + 1*q^3 + 2*q^4 + 2*q^6 + 2*q^7 + 3*q^8 + 2*q^9 + 4*q^10 + 3*q^11 + 4*q^12 + 4*q^13 + 6*q^14 + 7*q^15 + 8*q^16 + 6*q^17 + 10*q^18 + 10*q^19 + Order(q^20))\n"
     ]
    }
   ],
   "source": [
    "from sage.combinat.q_analogues import q_pochhammer\n",
    "load('3d_modularity_revisited.sage')\n",
    "\n",
    "def habiro_3l(m): \n",
    "   return (-1)**m*q**(m*(m+3)/2)\n",
    "\n",
    "b=0\n",
    "zhat_surg = 0#habiro_3l(-1) \n",
    "for n in range(7):\n",
    "    P = P_poly(n,2,b)\n",
    "    if not P in ZZ:\n",
    "        P = P(q=1/q)\n",
    "    zhat_surg += habiro_3l(-n-1) * (-1)**(n)*q**(n*(n+1)/2)/q_pochhammer(n,q**(n+1))*P\n",
    "print(\"Z_0(nu=0): \",q^(b*(4-b)/8)*(-q*zhat_surg).series(q,20))\n",
    "\n",
    "b=1\n",
    "zhat_surg = 0#habiro_3l(-1) \n",
    "for n in range(7):\n",
    "    P = P_poly(n,2,b)\n",
    "    if not P in ZZ:\n",
    "        P = P(q=1/q)\n",
    "    zhat_surg += habiro_3l(-n-1) * (-1)**(n)*q**(n*(n+1)/2)/q_pochhammer(n,q**(n+1))*P\n",
    "print(\"Z_1(nu=0): \",q^(b*(4-b)/8)*(-zhat_surg).series(q,20))"
   ]
  },
  {
   "cell_type": "markdown",
   "metadata": {},
   "source": [
    "$$\n",
    "\\def\\knot{\\mathbb{3}_1^l}\n",
    "$$\n",
    "We can compute the invariants in the $\\nu=1$ case in a similar way, starting from (2.20) we land at\n",
    "$$\n",
    "\\hat{Z}_{b}(S_{+2}^{3}(\\knot);W_{1};\\tau)\\sim\\\\\\left(a_{-1}(\\knot;q)\\mathcal{L}_{+2}^{(b+1)}\\left[x^{{1\\over 2}}  + x^{-{1\\over 2}}\\right] + \n",
    "\\sum_{m=1}^{\\infty} a_{-m-1}(\\knot;q)\\mathcal{L}_{+2}^{(b+1)}\\left[\\frac{\\left(x^{{1\\over 2}}  + x^{-{1\\over 2}}  \\right)}{\\prod_{j=1}^{m}(x+x^{-1}-q^{j}-q^{-j})}\\right]\\right)~,\n",
    "$$\n",
    "which we expand using equation (2.27)\n",
    "$$\n",
    "\\mathcal{L}_{+ p}^{(b)}\\left[\\frac{x^{1/2}+x^{-1/2} }{\\prod_{j=1}^{n}(x+x^{-1}-q^{j}-q^{-j})}\\right]  =(-1)^n \\frac{q^{\\frac{n^2+n}{2}-\\frac{1}{4}}}{(q^{n};q)_n} q^{\\frac{b(2p-b)}{4p}}\\tilde P_{n}^{p,b}(q) ~, \\qquad p\\in\\mathbb{Z}_{+}~. \n",
    "$$\n",
    "leading to\n",
    "$$\n",
    "\\hat{Z}_{b}(S_{+2}^{3}(\\knot);W_{1};\\tau)\\sim q^{\\frac{b(4-b)-2}{8}}\\left(2a_{-1}(\\knot;q)\\tilde P_{0}^{2,b+1}(q) + \n",
    "\\sum_{m=1}^{\\infty} a_{-m-1}(\\knot;q)(-1)^m \\frac{q^{\\frac{m^2+m}{2}}}{(q^{m};q)_m} \\tilde P_{m}^{2,b+1}(q)\\right)\n",
    "$$"
   ]
  },
  {
   "cell_type": "code",
   "execution_count": 11,
   "metadata": {
    "vscode": {
     "languageId": "sage"
    }
   },
   "outputs": [
    {
     "name": "stdout",
     "output_type": "stream",
     "text": [
      "Z_0(nu=1):  1 + 1*q + 1*q^2 + 1*q^3 + 2*q^4 + 2*q^5 + 2*q^6 + 3*q^7 + 3*q^8 + 4*q^9 + 5*q^10 + 5*q^11 + 6*q^12 + 7*q^13 + 8*q^14 + 9*q^15 + 11*q^16 + 12*q^17 + 13*q^18 + 16*q^19 + Order(q^20)\n",
      "Z_1(nu=1):  q^(3/8)*((-1) + (-1)*q + (-1)*q^2 + (-2)*q^3 + (-2)*q^4 + (-2)*q^5 + (-3)*q^6 + (-3)*q^7 + (-4)*q^8 + (-5)*q^9 + (-5)*q^10 + (-5)*q^11 + (-8)*q^12 + (-8)*q^13 + (-8)*q^14 + (-11)*q^15 + (-12)*q^16 + (-13)*q^17 + (-15)*q^18 + (-16)*q^19 + Order(q^20))\n"
     ]
    }
   ],
   "source": [
    "b = 0\n",
    "zhat_surg = habiro_3l(-1) * P_poly(0,2,b+1) \n",
    "for n in range(1,6):\n",
    "    P = P_poly(n,2,b+1)\n",
    "    if not P in ZZ:\n",
    "        P = P(q=1/q)\n",
    "    zhat_surg += habiro_3l(-n-1) * (-1)**(n)*q**(n*(n+1)/2 )/q_pochhammer(n,q**(n))*P\n",
    "print(\"Z_0(nu=1): \",q^(b*(4-b)/8)*(-q*zhat_surg).series(q,20))\n",
    "\n",
    "b = 1\n",
    "zhat_surg = 0\n",
    "for n in range(1,6):\n",
    "    P = P_poly(n,2,b+1)\n",
    "    if not P in ZZ:\n",
    "        P = P(q=1/q)\n",
    "    zhat_surg += habiro_3l(-n-1) * (-1)**(n)*q**(n*(n+1)/2 )/q_pochhammer(n,q**(n))*P\n",
    "print(\"Z_1(nu=1): \",q^(b*(4-b)/8)*(zhat_surg).series(q,20))"
   ]
  },
  {
   "cell_type": "markdown",
   "metadata": {
    "vscode": {
     "languageId": "sage"
    }
   },
   "source": [
    "$$\n",
    "\\def\\knot{\\mathbb{3}_1^l}\n",
    "$$\n",
    "In the $\\nu=2$ case, following equation (2.22) of [1] we have\n",
    "$$\n",
    "\\hat{Z}_{b}\\left(S_{+2}^{3}(\\knot); W_{2}; \\tau\\right) \\sim \\\\\\left( a_{-1}(\\knot;q)\\, \\mathcal{L}_{+2}^{(b+2)}\\left[ x + 1 + x^{-1} \\right] + \\sum_{m=1}^{\\infty} \\mathcal{L}_{+2}^{(b+2)}\\left[ \\left( x + 1 + x^{-1} \\right) \n",
    "\\frac{a_{-m-1}(\\knot;q)}{\\prod_{j=1}^{m} (x + x^{-1} - q^{j} - q^{-j})} \\right] \\right).\n",
    "$$\n",
    "\n",
    "Following (2.33)\n",
    "$$\n",
    "\\frac{(x+x^{-1})^m}{\\prod_{j=1}^{n} (x + x^{-1} - q^{j} - q^{-j})} = \\frac{(q^{n}+q^{-n})(x+x^{-1})^{m-1}}{\\prod_{j=1}^{n} (x + x^{-1} - q^{j} - q^{-j})} + \\frac{(x+x^{-1})^{m-1}}{\\prod_{j=1}^{n-1} (x + x^{-1} - q^{j} - q^{-j})},\n",
    "$$\n",
    "we can expand the invariant as\n"
   ]
  },
  {
   "cell_type": "markdown",
   "metadata": {
    "vscode": {
     "languageId": "sage"
    }
   },
   "source": [
    "$$\n",
    "\\def\\knot{\\mathbb{3}_1^l}\n",
    "$$\n",
    "$$\n",
    "\\hat{Z}_{b}\\left(S_{+2}^{3}(\\knot); W_{2}; \\tau\\right) \\sim  a_{-1}(\\knot;q)\\, \\mathcal{L}_{+2}^{(b+2)}\\left[ x + 1 + x^{-1} \\right] \\\\+ \n",
    "\\sum_{m=1}^{\\infty} a_{-m-1}(\\knot;q)\\mathcal{L}_{+2}^{(b+2)}  \\left[\\left(\\frac{ q^m + 1 + q^{-m}}{\\prod_{j=1}^{m} (x + x^{-1} - q^{j} - q^{-j})}+\\frac{1}{\\prod_{j=1}^{m-1} (x + x^{-1} - q^{j} - q^{-j})}\\right)\\right]\\\\\n",
    " \\sim  a_{-1}(\\knot;q)\\, \\mathcal{L}_{+2}^{(b+2)}\\left[ x + 1 +  x^{-1} \\right] +a_{-2}(\\knot;q)\\mathcal{L}_{+2}^{(b+2)}\\left[1\\right] +  \\\\ + \n",
    "\\sum_{m=1}^{\\infty}\\Bigg( a_{-m-1}(\\knot;q)\\left(q^m + 1 + q^{-m}\\right)+a_{-m-2}(\\knot;q)\\Bigg)\\mathcal{L}_{+2}^{(b+2)}  \\left[\\left(\\frac{1}{\\prod_{j=1}^{m} (x + x^{-1} - q^{j} - q^{-j})}\\right)\\right]\\\\\n",
    "\n",
    "$$\n",
    "\n",
    "which, using (2.20) reduces to\n",
    "$$\n",
    "\\hat{Z}_{b}\\left(S_{+2}^{3}(\\knot); W_{2}; \\tau\\right) \n",
    " \\sim \\\\   q^{-\\frac{(b-2)^2}{8}}\\Bigg(P^{2,b+2}_0(q)\\delta_{b,0}\\left(a_{-1}(\\knot;q)+a_{-2}(\\knot;q)\\right)\n",
    " \\\\\n",
    "\\sum_{m=1}^{\\infty}P^{2,b+2}_n(q)\\bigg( a_{-m-1}(\\knot;q)\\left(q^m + 1 + q^{-m}\\right)+a_{-m-2}(\\knot;q)\\bigg)\\frac{(-1)^m q^{\\frac{m(m+1)}{2}}}{(q^{m+1};q)_m} \\Bigg)\n",
    "$$"
   ]
  },
  {
   "cell_type": "code",
   "execution_count": 12,
   "metadata": {
    "vscode": {
     "languageId": "sage"
    }
   },
   "outputs": [
    {
     "name": "stdout",
     "output_type": "stream",
     "text": [
      "Z_0(nu=2):  (1 + 1*q + 2*q^2 + 2*q^3 + 2*q^4 + 3*q^5 + 4*q^6 + 4*q^7 + 5*q^8 + 5*q^9 + 7*q^10 + 8*q^11 + 9*q^12 + 10*q^13 + 12*q^14 + 13*q^15 + 15*q^16 + 17*q^17 + 20*q^18 + 22*q^19 + Order(q^20))/sqrt(q)\n",
      "Z_1(nu=2):  (1 + 1*q + 2*q^2 + 1*q^3 + 3*q^4 + 2*q^5 + 4*q^6 + 3*q^7 + 5*q^8 + 5*q^9 + 7*q^10 + 6*q^11 + 9*q^12 + 9*q^13 + 12*q^14 + 11*q^15 + 16*q^16 + 15*q^17 + 19*q^18 + 19*q^19 + Order(q^20))/q^(1/8)\n"
     ]
    }
   ],
   "source": [
    "b = 0\n",
    "zhat_surg = (habiro_3l(-1) + habiro_3l(-2)) * P_poly(0,2,b+2) # *2\n",
    "for n in range(1,7):\n",
    "    P = P_poly(n,2,b+2)\n",
    "    if not P in ZZ:\n",
    "        P = P(q=1/q)\n",
    "    zhat_surg += habiro_3l(-n-1) * (-1)**(n)*q**(n*(n+1)/2)/q_pochhammer(n,q**(n+1))*P*(q**n+1+q**(-n))\n",
    "    zhat_surg += habiro_3l(-n-2) * (-1)**(n)*q**(n*(n+1)/2)/q_pochhammer(n,q**(n+1))*P\n",
    "print(\"Z_0(nu=2): \",q^(-(b-2)**2/8)*(-q*zhat_surg).series(q,20))\n",
    "\n",
    "b = 1\n",
    "zhat_surg = 0\n",
    "for n in range(1,6):\n",
    "    P = P_poly(n,2,b-1)\n",
    "    if not P in ZZ:\n",
    "        P = P(q=1/q)\n",
    "    zhat_surg += habiro_3l(-n-1) * (-1)**(n)*q**(n*(n+1)/2)/q_pochhammer(n,q**(n+1))*P*(q**n+1+q**(-n))\n",
    "    zhat_surg += habiro_3l(-n-2) * (-1)**(n)*q**(n*(n+1)/2)/q_pochhammer(n,q**(n+1))*P\n",
    "print(\"Z_1(nu=2): \",q^(-(b-2)**2/8)*(-q*zhat_surg).series(q,20))"
   ]
  },
  {
   "cell_type": "markdown",
   "metadata": {
    "vscode": {
     "languageId": "sage"
    }
   },
   "source": [
    "\n",
    "$$\n",
    "\\def\\knot{\\mathbb{3}_1^l}\n",
    "$$\n",
    "In the $\\nu=3$ case, following equation (2.22) of [1] we have\n",
    "$$\n",
    "\\hat{Z}_{b}\\left(S_{+2}^{3}(\\knot); W_{3}; \\tau\\right) \\sim \\Bigg( a_{-1}(\\knot;q)\\, \\mathcal{L}_{+2}^{(b+3)}\\left[ x^{\\frac{3}{2}} + x^{\\frac{1}{2}} + x^{-\\frac{1}{2}} + x^{-\\frac{3}{2}}\\right] + \\\\\n",
    "\\sum_{m=1}^{\\infty}a_{-m-1}(\\knot;q) \\mathcal{L}_{+2}^{(b+3)}\\left[  \n",
    "\\frac{ x^{\\frac{3}{2}} + x^{\\frac{1}{2}} + x^{-\\frac{1}{2}} + x^{-\\frac{3}{2}} }{\\prod_{j=1}^{m} (x + x^{-1} - q^{j} - q^{-j})} \\right] \\Bigg)\\\\\n",
    "=\\Bigg( a_{-1}(\\knot;q)\\, \\mathcal{L}_{+2}^{(b+3)}\\left[ (x + x^{-1})(x^{\\frac{1}{2}}+x^{-\\frac{1}{2}})\\right] + \\\\\n",
    "\\sum_{m=1}^{\\infty} a_{-m-1}(\\knot;q)\\mathcal{L}_{+2}^{(b+3)}\\left[ \\frac{(x + x^{-1})(x^{\\frac{1}{2}}+x^{-\\frac{1}{2}})}{\\prod_{j=1}^{m} (x + x^{-1} - q^{j} - q^{-j})} \\right] \\Bigg)\n",
    "$$\n",
    "\n",
    "Following (2.33), in the same way as the $\\nu=2$ case, this lands us with\n",
    "$$\n",
    "\\hat{Z}_{b}\\left(S_{+2}^{3}(\\knot); W_{3}; \\tau\\right) \n",
    " \\sim \\\\  \n",
    " q^{-\\frac{-(b-1)(b+3)^2}{8}}\\Bigg(P^{2,b+3}_0(q)\\delta_{b,0}\\left(a_{-1}(\\knot;q)+a_{-2}(\\knot;q)\\right)+2P^{2,b+2}_0(q)\\delta_{b,1}q^{-1}a_{-1}(\\knot;q)+\n",
    " \\\\\n",
    "\\sum_{m=1}^{\\infty}P^{2,b+2}_n(q)\\bigg( a_{-m-1}(\\knot;q)\\left(q^m + 1 + q^{-m}\\right)+a_{-m-2}(\\knot;q)\\bigg)\\frac{(-1)^m q^{\\frac{m(m+1)}{2}}}{(q^{m+1};q)_m} \\Bigg)\n",
    "$$\n"
   ]
  },
  {
   "cell_type": "code",
   "execution_count": 7,
   "metadata": {
    "vscode": {
     "languageId": "sage"
    }
   },
   "outputs": [
    {
     "name": "stdout",
     "output_type": "stream",
     "text": [
      "Z_0(nu=3):  q^(3/8)*(1 + 1*q + 2*q^2 + 2*q^3 + 2*q^4 + 3*q^5 + 4*q^6 + 4*q^7 + 5*q^8 + 6*q^9 + 6*q^10 + 8*q^11 + 10*q^12 + 10*q^13 + 12*q^14 + 14*q^15 + 15*q^16 + 18*q^17 + 20*q^18 + 22*q^19 + Order(q^20))\n"
     ]
    }
   ],
   "source": [
    "b = 0\n",
    "zhat_surg = 0\n",
    "for n in range(1,6):\n",
    "    P = P_poly(n,2,b+3)\n",
    "    if not P in ZZ:\n",
    "        P = P(q=1/q)\n",
    "    zhat_surg += habiro_3l(-n-1) * (-1)**(n)*q**(n*(n+1)/2)/q_pochhammer(n,q**(n))*P*(q**n+q**(-n))\n",
    "    zhat_surg += habiro_3l(-n-2) * (-1)**(n)*q**(n*(n+1)/2)/q_pochhammer(n,q**(n))*P\n",
    "print(\"Z_0(nu=3): \",q^(-(b-1)*(b+3)/8)*(-q*zhat_surg).series(q,20))"
   ]
  }
 ],
 "metadata": {
  "kernelspec": {
   "display_name": "SageMath 10.5",
   "language": "sage",
   "name": "sagemath"
  },
  "language_info": {
   "codemirror_mode": {
    "name": "ipython",
    "version": 3
   },
   "file_extension": ".py",
   "mimetype": "text/x-python",
   "name": "python",
   "nbconvert_exporter": "python",
   "pygments_lexer": "ipython3",
   "version": "3.12.9"
  }
 },
 "nbformat": 4,
 "nbformat_minor": 2
}
