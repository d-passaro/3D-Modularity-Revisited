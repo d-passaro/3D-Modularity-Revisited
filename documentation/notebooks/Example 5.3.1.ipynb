{
 "cells": [
  {
   "cell_type": "markdown",
   "metadata": {},
   "source": [
    "# Example 5.3.1\n",
    "\n",
    "In this notebook we demonstrate the computation of the $\\hat{Z}$ invariant through knot surgery. In this example we will compute $-1$ surgery on the left handed trefoil, and $+1$ surgery on the left handed trefoil which will lead to expressions for the $\\hat{Z}$ invariants for $\\Sigma(2,3,5)$ and $-\\Sigma(2,3,5)$.\n",
    "\n",
    "Following equation 2.14 the $\\hat{Z}$ invariant of $\\Sigma(2,3,5)$ can be obtained by:\n",
    "$$\n",
    "    \\hat{Z}_{b}(S^3_{-1}(3^{l})) \\propto \\mathcal{L}^{(0)}_{-1}\\left[a_{-1}(3^{l};q) + \\sum_{n=1}^\\infty\\frac{a_{-n-1}(3^{l};q)}{\\prod_{j=1}^n(x+x^{-1}-q^j-q^{-j})}\\right]\n",
    "$$\n",
    "which, with\n",
    "$$\n",
    "a_{n}(3^{l};q) = (-1)^m q^{\\frac{m(m+3)}{2}} \\implies a_{-n-1}(3^{l};q) = -\\left(-1\\right)^{n}q^{\\frac{1}{2} \\, n^{2} - \\frac{1}{2} \\, n - 1}\n",
    "$$\n",
    "implies, together with equation 2.16 that the $\\hat{Z}$ should be given by\n",
    "$$\n",
    "    \\hat{Z}_{b}(S^3_{-1}(3^{l})) \\propto -\\frac{1}{q} - \\sum_{n=1}^\\infty \\left(-1\\right)^{n}q^{\\frac{1}{2} \\, n^{2} - \\frac{1}{2} \\, n - 1}\\times \\frac{q^{n^2}}{(q^{n+1};q)_n}\n",
    "$$"
   ]
  },
  {
   "cell_type": "code",
   "execution_count": 3,
   "metadata": {
    "vscode": {
     "languageId": "sage"
    }
   },
   "outputs": [
    {
     "data": {
      "text/plain": [
       "1 + (-1)*q + (-1)*q^3 + (-1)*q^7 + 1*q^8 + 1*q^14 + Order(q^20)"
      ]
     },
     "execution_count": 3,
     "metadata": {},
     "output_type": "execute_result"
    }
   ],
   "source": [
    "from sage.combinat.q_analogues import q_pochhammer\n",
    "q = var('q')\n",
    "def habiro_3l(m):\n",
    "    return (-1)**m*q**(m*(m+3)/2)\n",
    "def habiro_3r(m):\n",
    "    return (-1)**m*q**(-m*(m+3)/2)\n",
    "zhat_235 = -1/q + sum(habiro_3l(-n-1) * q**(n**2)/q_pochhammer(n,q**(n+1)) for n in range(1,5))\n",
    "(-q*zhat_235).series(q, 20)"
   ]
  },
  {
   "cell_type": "markdown",
   "metadata": {},
   "source": [
    "Inserting a wilson line in representation $\\nu = 1$ introduces a factor of\n",
    "$$\n",
    "    \\chi_{1}(x^{\\frac{1}{2}}) = \\frac{x - x^{-1}}{x^{\\frac{1}{2}} - x^{-\\frac{1}{2}}} = x^{\\frac{1}{2}} + x^{-\\frac{1}{2}}\n",
    "$$\n",
    "in the Laplace transform leading to\n",
    "$$\n",
    "    \\begin{split}\n",
    "    \\hat{Z}_{b}(S^3_{-1}(3^{l}), W_{1}) &\\propto \\mathcal{L}^{(1)}_{-1}\\left[\\left(x^{\\frac{1}{2}} + x^{-\\frac{1}{2}}\\right)\\sum_{n=1}^\\infty\\frac{a_{-n-1}(3^{l};q)}{\\prod_{j=0}^n(x+x^{-1}-q^j-q^{-j})}\\right] \\\\\n",
    "     &= \\mathcal{L}^{(1)}_{-1}\\left[\\left(x^{\\frac{1}{2}} + x^{-\\frac{1}{2}}\\right)a_{-1}(3^{l};q) + \\sum_{n=1}^\\infty\\frac{a_{-n-1}(3^{l};q)\\left(x^{\\frac{1}{2}} + x^{-\\frac{1}{2}}\\right)}{\\prod_{j=1}^n(x+x^{-1}-q^j-q^{-j})}\\right] \\\\\n",
    "     &= 2q^{\\frac{1}{4}}a_{-1}(3^{l};q) + \\sum_{n=1}^\\infty a_{-n-1}(3^{l};q)\\mathcal{L}^{(1)}_{-1}\\left[\\frac{\\left(x^{\\frac{1}{2}} + x^{-\\frac{1}{2}}\\right)}{\\prod_{j=1}^n(x+x^{-1}-q^j-q^{-j})}\\right] \\\\\n",
    "     &= 2q^{\\frac{1}{4}}a_{-1}(3^{l};q) + \\sum_{n=1}^\\infty a_{-n-1}(3^{l};q)\\frac{q^{n^2-n+\\frac{1}{4}}}{(q^n;q)_n}\\\\\n",
    "    \\end{split}\n",
    "$$"
   ]
  },
  {
   "cell_type": "code",
   "execution_count": 31,
   "metadata": {
    "vscode": {
     "languageId": "sage"
    }
   },
   "outputs": [
    {
     "data": {
      "text/plain": [
       "(-1) + 1*q + (-1)*q^2 + (-1)*q^4 + 1*q^11 + 1*q^15 + 1*q^18 + Order(q^20)"
      ]
     },
     "execution_count": 31,
     "metadata": {},
     "output_type": "execute_result"
    }
   ],
   "source": [
    "zhat_235w1 = 2*q**(1/4) + -sum(habiro_3l(-n-1) * q**(n**2-n+1/4)/q_pochhammer(n,q**(n)) for n in range(1,10))\n",
    "(zhat_235w1*q**(3/4)).series(q, 20)"
   ]
  },
  {
   "cell_type": "markdown",
   "metadata": {
    "vscode": {
     "languageId": "sage"
    }
   },
   "source": [
    "We can compare the results above with the same computed with the plumbing definition:\n"
   ]
  },
  {
   "cell_type": "code",
   "execution_count": 32,
   "metadata": {
    "vscode": {
     "languageId": "sage"
    }
   },
   "outputs": [
    {
     "name": "stdout",
     "output_type": "stream",
     "text": [
      "q^(-3/2)(1 - 1q^(1) - 1q^(3) - 1q^(7) + 1q^(8) + 1q^(14) + 1q^(20) + O(q^21))\n",
      "q^(-5/4)(1 - 1q^(1) - 1q^(2) - 1q^(4) + 1q^(11) + 1q^(15) + 1q^(18) + O(q^19))\n"
     ]
    }
   ],
   "source": [
    "from pyPlumbing import Plumbing\n",
    "P = Plumbing.from_Brieskorn([2,3,5]).invert_orientation()\n",
    "b0 = P.trivial_spin_c(['A',1])\n",
    "zh = P.zhat(['A',1], b0,20)\n",
    "print(zh)\n",
    "w = [vector([0])] * 3  + [vector([1])]\n",
    "zh = P.zhat(['A',1], b0,20, wilson = w)\n",
    "print(zh)"
   ]
  },
  {
   "cell_type": "markdown",
   "metadata": {
    "vscode": {
     "languageId": "sage"
    }
   },
   "source": [
    "These match up to a finite polynomial.\n",
    "\n",
    "We can compute the same on the other side by inverting both the surgery and the chirality of the knot. \n",
    "In this case, following equations 2.21 and 2.25, we combine the surgery formula together with the Habiro coefficients of the right handed trefoil to compute the predicted $\\hat{Z}$ invariant for the positive oritentation plumbed manifold."
   ]
  },
  {
   "cell_type": "code",
   "execution_count": 33,
   "metadata": {
    "vscode": {
     "languageId": "sage"
    }
   },
   "outputs": [
    {
     "name": "stdout",
     "output_type": "stream",
     "text": [
      "1 + 1*q + 1*q^2 + 2*q^3 + 1*q^4 + 3*q^5 + 2*q^6 + 3*q^7 + 3*q^8 + 5*q^9 + Order(q^10)\n",
      "1 + 2*q + 2*q^2 + 3*q^3 + 3*q^4 + 4*q^5 + 4*q^6 + 6*q^7 + 5*q^8 + 7*q^9 + Order(q^10)\n"
     ]
    }
   ],
   "source": [
    "print((1 + sum(-1/q*habiro_3r(-n-1) * (-1)**n * q**(n*(n+1)/2) /q_pochhammer(n,q**(n+1)) for n in range(1,10))).series(q,10))\n",
    "print((sum(-1/q**2*habiro_3r(-n-1) * (-1)**n * q**(n*(n+1)/2) /q_pochhammer(n,q**(n)) for n in range(1,12))).series(q,10))"
   ]
  },
  {
   "cell_type": "markdown",
   "metadata": {},
   "source": [
    "Which match the order 5 mock theta functions of Ramanujan"
   ]
  },
  {
   "cell_type": "code",
   "execution_count": 23,
   "metadata": {
    "vscode": {
     "languageId": "sage"
    }
   },
   "outputs": [
    {
     "name": "stdout",
     "output_type": "stream",
     "text": [
      "X0:  1 + 1*q + 1*q^2 + 2*q^3 + 1*q^4 + 3*q^5 + 2*q^6 + 3*q^7 + 3*q^8 + 5*q^9 + 3*q^10 + 5*q^11 + 4*q^12 + 6*q^13 + 6*q^14 + 8*q^15 + 6*q^16 + 11*q^17 + 10*q^18 + 12*q^19 + Order(q^20)\n",
      "X1:  1 + 2*q + 2*q^2 + 3*q^3 + 3*q^4 + 4*q^5 + 4*q^6 + 6*q^7 + 5*q^8 + 7*q^9 + 8*q^10 + 8*q^11 + 8*q^12 + 11*q^13 + 11*q^14 + 14*q^15 + 14*q^16 + 17*q^17 + 18*q^18 + 22*q^19 + Order(q^20)\n"
     ]
    }
   ],
   "source": [
    "def X0_ramanujan(n_max: int = 10, q_var = var('q')):\n",
    "    return sum(q**n/q_pochhammer(n,q**(n+1),q) for n in range(0,n_max+1))\n",
    "def X1_ramanujan(n_max: int = 10, q_var = var('q')):\n",
    "    return sum(q**n/q_pochhammer(n+1,q**(n+1),q) for n in range(0,n_max+1))\n",
    "print(\"X0: \",X0_ramanujan().series(q,20))\n",
    "print(\"X1: \",X1_ramanujan().series(q,20))"
   ]
  }
 ],
 "metadata": {
  "kernelspec": {
   "display_name": "SageMath 10.4",
   "language": "sage",
   "name": "sagemath"
  },
  "language_info": {
   "codemirror_mode": {
    "name": "ipython",
    "version": 3
   },
   "file_extension": ".py",
   "mimetype": "text/x-python",
   "name": "python",
   "nbconvert_exporter": "python",
   "pygments_lexer": "ipython3",
   "version": "3.12.8"
  }
 },
 "nbformat": 4,
 "nbformat_minor": 2
}
